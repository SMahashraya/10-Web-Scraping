{
 "cells": [
  {
   "cell_type": "code",
   "execution_count": 1,
   "metadata": {},
   "outputs": [],
   "source": [
    "# Dependencies\n",
    "import pandas as pd\n",
    "from pprint import pprint\n",
    "from splinter import Browser\n",
    "from splinter.exceptions import ElementDoesNotExist\n",
    "from bs4 import BeautifulSoup\n",
    "import requests\n",
    "import tweepy\n",
    "from tweepy import OAuthHandler"
   ]
  },
  {
   "cell_type": "code",
   "execution_count": 2,
   "metadata": {},
   "outputs": [
    {
     "name": "stdout",
     "output_type": "stream",
     "text": [
      "/usr/local/bin/chromedriver\r\n"
     ]
    }
   ],
   "source": [
    "!which chromedriver"
   ]
  },
  {
   "cell_type": "code",
   "execution_count": 3,
   "metadata": {},
   "outputs": [],
   "source": [
    "executable_path = {'executable_path': '/usr/local/bin/chromedriver'}\n",
    "browser = Browser('chrome', **executable_path, headless=False)"
   ]
  },
  {
   "cell_type": "code",
   "execution_count": 4,
   "metadata": {},
   "outputs": [],
   "source": [
    "mars_url = 'https://mars.nasa.gov/news'\n",
    "browser.visit(mars_url)"
   ]
  },
  {
   "cell_type": "code",
   "execution_count": 5,
   "metadata": {},
   "outputs": [
    {
     "name": "stdout",
     "output_type": "stream",
     "text": [
      "Curiosity Resumes Operations After Switching Computers\n",
      "Curiosity experienced a computer reset on its Side-A computer on Wednesday, March 6, 2019 (Sol 2,339), that triggered the rover's safe mode.\n"
     ]
    }
   ],
   "source": [
    "# HTML object\n",
    "html = browser.html\n",
    "\n",
    "# Parse HTML with Beautiful Soup\n",
    "soup = BeautifulSoup(html, 'html.parser')\n",
    "\n",
    "# Use Beautiful Soup's find() method to navigate and retrieve attributes\n",
    "h3 = soup.find('h3')\n",
    "news_title = h3.text\n",
    "print(news_title)\n",
    "\n",
    "newsfeed = soup.find('div', class_='rollover_description_inner')\n",
    "news_p = newsfeed.text.strip()\n",
    "print(news_p)"
   ]
  },
  {
   "cell_type": "code",
   "execution_count": 6,
   "metadata": {},
   "outputs": [],
   "source": [
    "jpl_url = 'https://www.jpl.nasa.gov/spaceimages/?search=&category=Mars'\n",
    "browser.visit(jpl_url)"
   ]
  },
  {
   "cell_type": "code",
   "execution_count": 7,
   "metadata": {},
   "outputs": [
    {
     "name": "stdout",
     "output_type": "stream",
     "text": [
      "https://www.jpl.nasa.gov/spaceimages/images/mediumsize/PIA18284_ip.jpg\n"
     ]
    }
   ],
   "source": [
    "# HTML object\n",
    "html = browser.html\n",
    "\n",
    "# Parse HTML with Beautiful Soup\n",
    "soup = BeautifulSoup(html, 'html.parser')\n",
    "\n",
    "# Use Beautiful Soup's find() method to navigate and retrieve attributes\n",
    "item = soup.find('a', class_='button fancybox')\n",
    "base_url = 'https://www.jpl.nasa.gov'\n",
    "featured_img_url = base_url + item['data-fancybox-href']\n",
    "print(featured_img_url)"
   ]
  },
  {
   "cell_type": "code",
   "execution_count": 15,
   "metadata": {},
   "outputs": [
    {
     "name": "stdout",
     "output_type": "stream",
     "text": [
      "('InSight sol 102 (2019-03-11) low -96.8ºC (-142.2ºF) high -17.0ºC (1.4ºF)\\n'\n",
      " 'winds from the SW at 4.8 m/s (10.7 mph) gu… https://t.co/71idzMitj5')\n"
     ]
    }
   ],
   "source": [
    "consumer_key = 'NCgxx81KmAg3x7grbgXQ28mUF'\n",
    "consumer_secret = 'hKYSlIloSnaxvTH2eyfQYK4JCc1ngGre0CIsBosUKvCrjXQOnW'\n",
    "access_token = '1524954282-eogZthzXepkLq2IQLBUIO04uujavVRlg4VANP4b'\n",
    "access_secret = 'sp24Dl1dfQNulOkJCL54hNm5uwD2Mr45WTSiVwQELYGFc'\n",
    " \n",
    "auth = OAuthHandler(consumer_key, consumer_secret)\n",
    "auth.set_access_token(access_token, access_secret)\n",
    "api = tweepy.API(auth)\n",
    "\n",
    "MarsWxReport = api.user_timeline(screen_name = 'MarsWxReport', count = 1)\n",
    "for status in MarsWxReport:\n",
    "    mars_weather = status.text.strip()\n",
    "pprint(mars_weather)"
   ]
  },
  {
   "cell_type": "code",
   "execution_count": 9,
   "metadata": {},
   "outputs": [
    {
     "name": "stdout",
     "output_type": "stream",
     "text": [
      "('<table border=\"1\" class=\"dataframe\">  <thead>    <tr style=\"text-align: '\n",
      " 'right;\">      <th>Column Name</th>      <th>Equatorial Diameter:</th>      '\n",
      " '<th>Polar Diameter:</th>      <th>Mass:</th>      <th>Moons:</th>      '\n",
      " '<th>Orbit Distance:</th>      <th>Orbit Period:</th>      <th>Surface '\n",
      " 'Temperature:</th>      <th>First Record:</th>      <th>Recorded By:</th>    '\n",
      " '</tr>  </thead>  <tbody>    <tr>      <th></th>      <td>6,792 km</td>      '\n",
      " '<td>6,752 km</td>      <td>6.42 x 10^23 kg (10.7% Earth)</td>      <td>2 '\n",
      " '(Phobos &amp; Deimos)</td>      <td>227,943,824 km (1.52 AU)</td>      '\n",
      " '<td>687 days (1.9 years)</td>      <td>-153 to 20 °C</td>      <td>2nd '\n",
      " 'millennium BC</td>      <td>Egyptian astronomers</td>    </tr>  '\n",
      " '</tbody></table>')\n"
     ]
    }
   ],
   "source": [
    "# Scrape table contents using Pandas\n",
    "mars_facts_url = 'https://space-facts.com/mars/'\n",
    "tables = pd.read_html(mars_facts_url)\n",
    "\n",
    "# Convert table/list to dataframe using Pandas\n",
    "# Transpose results\n",
    "mars_facts_df = tables[0]\n",
    "mars_facts_df.columns = [\"Column Name\", \"Value\"]\n",
    "mars_facts_df = mars_facts_df.set_index(\"Column Name\").T\n",
    "\n",
    "# Convert dataframe into html table\n",
    "mars_facts_html = mars_facts_df.to_html(index = False)\n",
    "\n",
    "# Strip unwanted newlines from html table\n",
    "mars_facts_html = mars_facts_html.replace('\\n', '')\n",
    "\n",
    "# Print the html table\n",
    "pprint(mars_facts_html)"
   ]
  },
  {
   "cell_type": "code",
   "execution_count": 10,
   "metadata": {},
   "outputs": [],
   "source": [
    "astrogeo_url = 'https://astrogeology.usgs.gov/search/results?q=hemisphere+enhanced&k1=target&v1=Mars'\n",
    "browser.visit(astrogeo_url)"
   ]
  },
  {
   "cell_type": "code",
   "execution_count": 11,
   "metadata": {},
   "outputs": [
    {
     "name": "stdout",
     "output_type": "stream",
     "text": [
      "[{'title': 'Cerberus Hemisphere Enhanced',\n",
      "  'urls': 'http://astropedia.astrogeology.usgs.gov/download/Mars/Viking/cerberus_enhanced.tif/full.jpg'},\n",
      " {'title': 'Schiaparelli Hemisphere Enhanced',\n",
      "  'urls': 'http://astropedia.astrogeology.usgs.gov/download/Mars/Viking/schiaparelli_enhanced.tif/full.jpg'},\n",
      " {'title': 'Syrtis Major Hemisphere Enhanced',\n",
      "  'urls': 'http://astropedia.astrogeology.usgs.gov/download/Mars/Viking/syrtis_major_enhanced.tif/full.jpg'},\n",
      " {'title': 'Valles Marineris Hemisphere Enhanced',\n",
      "  'urls': 'http://astropedia.astrogeology.usgs.gov/download/Mars/Viking/valles_marineris_enhanced.tif/full.jpg'}]\n"
     ]
    }
   ],
   "source": [
    "# HTML object\n",
    "html = browser.html\n",
    "\n",
    "# Parse HTML with Beautiful Soup\n",
    "soup = BeautifulSoup(html, 'html.parser')\n",
    "\n",
    "# Create base url\n",
    "astro_base_url = 'https://astrogeology.usgs.gov'\n",
    "\n",
    "# Create an empty array for hemisphere image urls\n",
    "hemisphere_img_urls = []\n",
    "\n",
    "# Find the html class/section to loop through for each image url\n",
    "hemisphere_list = soup.find('div', class_='collapsible results')\n",
    "hemisphere = hemisphere_list.find_all('div', class_='description')\n",
    "\n",
    "# Loop through and scrape the image url and title to append to the hemisphere_img_urls array\n",
    "for item in hemisphere:\n",
    "    h3 = item.find('h3')\n",
    "    title = h3.text.strip()\n",
    "    partial_link = item.find('a')['href']\n",
    "    full_link = astro_base_url + partial_link\n",
    "    browser.visit(full_link)\n",
    "    html = browser.html\n",
    "    soup = BeautifulSoup(html, 'html.parser')\n",
    "    img_downloads = soup.find('div', class_='downloads')\n",
    "    full_img = img_downloads.find('a')['href']\n",
    "    hemisphere_img_urls.append({\"title\" : title, \"urls\": full_img})\n",
    "\n",
    "# Print the array\n",
    "pprint(hemisphere_img_urls)"
   ]
  }
 ],
 "metadata": {
  "kernelspec": {
   "display_name": "Python 3",
   "language": "python",
   "name": "python3"
  },
  "language_info": {
   "codemirror_mode": {
    "name": "ipython",
    "version": 3
   },
   "file_extension": ".py",
   "mimetype": "text/x-python",
   "name": "python",
   "nbconvert_exporter": "python",
   "pygments_lexer": "ipython3",
   "version": "3.6.8"
  }
 },
 "nbformat": 4,
 "nbformat_minor": 2
}
